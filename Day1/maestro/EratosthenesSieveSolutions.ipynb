{
 "cells": [
  {
   "cell_type": "markdown",
   "metadata": {},
   "source": [
    "# Exercice 1: Python Basics - Sieve of Eratosthenes"
   ]
  },
  {
   "cell_type": "markdown",
   "metadata": {},
   "source": [
    "Let us recall that, in mathematics, a *prime* number is an integer $p>1$ that has no divisor else than $1$ and $p$ itself. Deciding whether or not an integer is a prime number, or finding very large prime numbers is a challenging problem, which is at the heart of cryptography. Please see [this article](https://en.wikipedia.org/wiki/Prime_number) for many details about prime numbers."
   ]
  },
  {
   "cell_type": "markdown",
   "metadata": {},
   "source": [
    "The idea of [Eratosthenes](https://en.wikipedia.org/wiki/Eratosthenes) was to start with a sequence of integers from $2$ to $n$ (say $n=100$):\n",
    "\n",
    "\n",
    "2, 3, 4, 5, 6, 7, 8, 9, 10, 11, 12, 13, 14, 15, 16, 17, 18, 19, 20, 21, 22, 23, 24, 25, 26, 27, 28, 29, 30, 31, 32, 33, 34, 35, 36, 37, 38, 39, 40, 41, 42, 43, 44, 45, 46, 47, 48, 49, 50, 51, 52, 53, 54, 55, 56, 57, 58, 59, 60, 61, 62, 63, 64, 65, 66, 67, 68, 69, 70, 71, 72, 73, 74, 75, 76, 77, 78, 79, 80, 81, 82, 83, 84, 85, 86, 87, 88, 89, 90, 91, 92, 93, 94, 95, 96, 97, 98, 99, 100\n"
   ]
  },
  {
   "cell_type": "markdown",
   "metadata": {},
   "source": [
    "Then progressively deleting all multiples, that, by definition, cannot be primes; starting with multiples of smallest remaining number (*i.e.* that has not yet been wiped out). At the beginning, the smallest number is 2, so one gets rid of 4, 6, 8, etc."
   ]
  },
  {
   "cell_type": "markdown",
   "metadata": {},
   "source": [
    "2, 3, ~~4~~, 5, ~~6~~, 7, ~~8~~, 9, ~~10~~, 11, ~~12~~, 13, ~~14~~, 15, ~~16~~, 17, ~~18~~, 19, ~~20~~, 21, ~~22~~, 23, ~~24~~, 25, ~~26~~, 27, ~~28~~, 29, ~~30~~, 31, ~~32~~, 33, ~~34~~, 35, ~~36~~, 37, ~~38~~, 39, ~~40~~, 41, ~~42~~, 43, ~~44~~, 45, ~~46~~, 47, ~~48~~, 49, ~~50~~, 51, ~~52~~, 53, ~~54~~, 55, ~~56~~, 57, ~~58~~, 59, ~~60~~, 61, ~~62~~, 63, ~~64~~, 65, ~~66~~, 67, ~~68~~, 69, ~~70~~, 71, ~~72~~, 73, ~~74~~, 75, ~~76~~, 77, ~~78~~, 79, ~~80~~, 81, ~~82~~, 83, ~~84~~, 85, ~~86~~, 87, ~~88~~, 89, ~~90~~, 91, ~~92~~, 93, ~~94~~, 95, ~~96~~, 97, ~~98~~, 99, ~~100~~"
   ]
  },
  {
   "cell_type": "markdown",
   "metadata": {},
   "source": [
    "After 2, the smallest remaining number 3, one gets rid of 6 (already wiped out), 9, etc."
   ]
  },
  {
   "cell_type": "markdown",
   "metadata": {},
   "source": [
    "2, 3, ~~4~~, 5, ~~6~~, 7, ~~8~~, ~~9~~, ~~10~~, 11, ~~12~~, 13, ~~14~~, ~~15~~, ~~16~~, 17, ~~18~~, 19, ~~20~~, ~~21~~, ~~22~~, 23, ~~24~~, 25, ~~26~~, ~~27~~, ~~28~~, 29, ~~30~~, 31, ~~32~~, ~~33~~, ~~34~~, 35, ~~36~~, 37, ~~38~~, ~~39~~, ~~40~~, 41, ~~42~~, 43, ~~44~~, ~~45~~, ~~46~~, 47, ~~48~~, 49, ~~50~~, ~~51~~, ~~52~~, 53, ~~54~~, 55, ~~56~~, ~~57~~, ~~58~~, 59, ~~60~~, 61, ~~62~~, ~~63~~, ~~64~~, 65, ~~66~~, 67, ~~68~~, ~~69~~, ~~70~~, 71, ~~72~~, 73, ~~74~~, ~~75~~, ~~76~~, 77, ~~78~~, 79, ~~80~~, ~~81~~, ~~82~~, 83, ~~84~~, 85, ~~86~~, ~~87~~, ~~88~~, 89, ~~90~~, 91, ~~92~~, ~~93~~, ~~94~~, 95, ~~96~~, 97, ~~98~~, ~~99~~, ~~100~~"
   ]
  },
  {
   "cell_type": "markdown",
   "metadata": {},
   "source": [
    "After 3, the smallest remaining number is 5, etc. The following animated gif shows the process for $n=120$. In the end, only prime numbers remain."
   ]
  },
  {
   "cell_type": "markdown",
   "metadata": {},
   "source": [
    "<img src='Sieve_of_Eratosthenes_animation.gif'/>"
   ]
  },
  {
   "cell_type": "markdown",
   "metadata": {},
   "source": [
    "The goal of this exercise is to implement Eratosthenes sieve in Python as a function `eratosthenes` that takes an integer as input $n$ and returns a list of integers that are all primes between $2$ and $n$."
   ]
  },
  {
   "cell_type": "markdown",
   "metadata": {},
   "source": [
    "## Question 1. Given an integer $n$, write some Python code that outputs a `list` containing all integers between $2$ and $n$ sorted in increasing order. Choose `n=120` for questions 1 to 6 and give the name `primes` the created list."
   ]
  },
  {
   "cell_type": "code",
   "execution_count": 1,
   "metadata": {},
   "outputs": [],
   "source": [
    "n = 120\n",
    "primes = list(range(2, n+1))"
   ]
  },
  {
   "cell_type": "markdown",
   "metadata": {},
   "source": [
    "## Question 2. Give the name `i` to the index of the first unseen element (*i.e.* $0$), and name `p` its value (*i.e.* $2$)"
   ]
  },
  {
   "cell_type": "code",
   "execution_count": 2,
   "metadata": {
    "collapsed": true
   },
   "outputs": [],
   "source": [
    "i = 0\n",
    "p = primes[i]"
   ]
  },
  {
   "cell_type": "markdown",
   "metadata": {},
   "source": [
    "## Question 3. For all subsequent elements, if they are divisible by $p$, delete them from the list"
   ]
  },
  {
   "cell_type": "code",
   "execution_count": 3,
   "metadata": {
    "collapsed": true
   },
   "outputs": [],
   "source": [
    "j = i+1\n",
    "while (j < len(primes)):\n",
    "    if (primes[j]%p == 0):\n",
    "        del primes[j]\n",
    "    else:\n",
    "        j+=1"
   ]
  },
  {
   "cell_type": "markdown",
   "metadata": {},
   "source": [
    "## Question 4. Give the name `i` to the next unseen element (*i.e.* 1), and name `p` its value, if `p` is greater than `sqrt(n)` print 'stop'"
   ]
  },
  {
   "cell_type": "code",
   "execution_count": 4,
   "metadata": {},
   "outputs": [],
   "source": [
    "from math import sqrt\n",
    "i = 1\n",
    "p = primes[i]\n",
    "if p > sqrt(n):\n",
    "    print('stop')"
   ]
  },
  {
   "cell_type": "markdown",
   "metadata": {},
   "source": [
    "## Question 5. For all subsequent elements, if they are divisible by $p$, delete them from the list"
   ]
  },
  {
   "cell_type": "code",
   "execution_count": 5,
   "metadata": {
    "collapsed": true
   },
   "outputs": [],
   "source": [
    "j = i+1\n",
    "while (j < len(primes)):\n",
    "    if (primes[j]%p == 0):\n",
    "        del primes[j]\n",
    "    else:\n",
    "        j+=1"
   ]
  },
  {
   "cell_type": "markdown",
   "metadata": {},
   "source": [
    "## Question 6. Wrap the previous steps in a loop"
   ]
  },
  {
   "cell_type": "code",
   "execution_count": 6,
   "metadata": {},
   "outputs": [],
   "source": [
    "i = 0\n",
    "p = 2\n",
    "while (p < sqrt(n)):\n",
    "    i += 1\n",
    "    j = i\n",
    "    while (j < len(primes)):\n",
    "        if (primes[j]%p == 0):\n",
    "            del primes[j]\n",
    "        else:\n",
    "            j+=1\n",
    "    p = primes[i]"
   ]
  },
  {
   "cell_type": "code",
   "execution_count": 7,
   "metadata": {},
   "outputs": [
    {
     "data": {
      "text/plain": [
       "[2,\n",
       " 3,\n",
       " 5,\n",
       " 7,\n",
       " 11,\n",
       " 13,\n",
       " 17,\n",
       " 19,\n",
       " 23,\n",
       " 29,\n",
       " 31,\n",
       " 37,\n",
       " 41,\n",
       " 43,\n",
       " 47,\n",
       " 53,\n",
       " 59,\n",
       " 61,\n",
       " 67,\n",
       " 71,\n",
       " 73,\n",
       " 79,\n",
       " 83,\n",
       " 89,\n",
       " 97,\n",
       " 101,\n",
       " 103,\n",
       " 107,\n",
       " 109,\n",
       " 113]"
      ]
     },
     "execution_count": 7,
     "metadata": {},
     "output_type": "execute_result"
    }
   ],
   "source": [
    "primes"
   ]
  },
  {
   "cell_type": "markdown",
   "metadata": {},
   "source": [
    "## Question 7. Embed the previous loop in a function called `eratosthenes`"
   ]
  },
  {
   "cell_type": "code",
   "execution_count": 8,
   "metadata": {
    "collapsed": true
   },
   "outputs": [],
   "source": [
    "def eratosthenes(n):\n",
    "    i = 0\n",
    "    p = 2\n",
    "    primes = list(range(2,n))\n",
    "    while (p < sqrt(n)):\n",
    "        i += 1\n",
    "        j = i\n",
    "        while (j < len(primes)):\n",
    "            if (primes[j]%p == 0):\n",
    "                del primes[j]\n",
    "            else:\n",
    "                j += 1\n",
    "        p = primes[i]\n",
    "    return primes"
   ]
  },
  {
   "cell_type": "code",
   "execution_count": 9,
   "metadata": {},
   "outputs": [
    {
     "data": {
      "text/plain": [
       "[2,\n",
       " 3,\n",
       " 5,\n",
       " 7,\n",
       " 11,\n",
       " 13,\n",
       " 17,\n",
       " 19,\n",
       " 23,\n",
       " 29,\n",
       " 31,\n",
       " 37,\n",
       " 41,\n",
       " 43,\n",
       " 47,\n",
       " 53,\n",
       " 59,\n",
       " 61,\n",
       " 67,\n",
       " 71,\n",
       " 73,\n",
       " 79,\n",
       " 83,\n",
       " 89,\n",
       " 97,\n",
       " 101,\n",
       " 103,\n",
       " 107,\n",
       " 109,\n",
       " 113]"
      ]
     },
     "execution_count": 9,
     "metadata": {},
     "output_type": "execute_result"
    }
   ],
   "source": [
    "eratosthenes(120)"
   ]
  }
 ],
 "metadata": {
  "kernelspec": {
   "display_name": "Python 3",
   "language": "python",
   "name": "python3"
  },
  "language_info": {
   "codemirror_mode": {
    "name": "ipython",
    "version": 3
   },
   "file_extension": ".py",
   "mimetype": "text/x-python",
   "name": "python",
   "nbconvert_exporter": "python",
   "pygments_lexer": "ipython3",
   "version": "3.6.2"
  }
 },
 "nbformat": 4,
 "nbformat_minor": 2
}
