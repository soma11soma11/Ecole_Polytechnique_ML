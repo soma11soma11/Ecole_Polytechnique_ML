{
 "cells": [
  {
   "cell_type": "markdown",
   "metadata": {},
   "source": [
    "# Exercice 1: Python Basics - Sieve of Eratosthenes"
   ]
  },
  {
   "cell_type": "markdown",
   "metadata": {},
   "source": [
    "Let us recall that, in mathematics, a *prime* number is an integer $p>1$ that has no divisor else than $1$ and $p$ itself. Deciding whether or not an integer is a prime number, or finding very large prime numbers is a challenging problem, which is at the heart of cryptography. Please see [this article](https://en.wikipedia.org/wiki/Prime_number) for many details about prime numbers."
   ]
  },
  {
   "cell_type": "markdown",
   "metadata": {},
   "source": [
    "The idea of [Eratosthenes](https://en.wikipedia.org/wiki/Eratosthenes) was to start with a sequence of integers from $2$ to $n$ (say $n=100$):\n",
    "\n",
    "\n",
    "2, 3, 4, 5, 6, 7, 8, 9, 10, 11, 12, 13, 14, 15, 16, 17, 18, 19, 20, 21, 22, 23, 24, 25, 26, 27, 28, 29, 30, 31, 32, 33, 34, 35, 36, 37, 38, 39, 40, 41, 42, 43, 44, 45, 46, 47, 48, 49, 50, 51, 52, 53, 54, 55, 56, 57, 58, 59, 60, 61, 62, 63, 64, 65, 66, 67, 68, 69, 70, 71, 72, 73, 74, 75, 76, 77, 78, 79, 80, 81, 82, 83, 84, 85, 86, 87, 88, 89, 90, 91, 92, 93, 94, 95, 96, 97, 98, 99, 100\n"
   ]
  },
  {
   "cell_type": "markdown",
   "metadata": {},
   "source": [
    "Then progressively deleting all multiples, that, by definition, cannot be primes; starting with multiples of smallest remaining number (*i.e.* that has not yet been wiped out). At the beginning, the smallest number is 2, so one gets rid of 4, 6, 8, etc."
   ]
  },
  {
   "cell_type": "markdown",
   "metadata": {},
   "source": [
    "2, 3, ~~4~~, 5, ~~6~~, 7, ~~8~~, 9, ~~10~~, 11, ~~12~~, 13, ~~14~~, 15, ~~16~~, 17, ~~18~~, 19, ~~20~~, 21, ~~22~~, 23, ~~24~~, 25, ~~26~~, 27, ~~28~~, 29, ~~30~~, 31, ~~32~~, 33, ~~34~~, 35, ~~36~~, 37, ~~38~~, 39, ~~40~~, 41, ~~42~~, 43, ~~44~~, 45, ~~46~~, 47, ~~48~~, 49, ~~50~~, 51, ~~52~~, 53, ~~54~~, 55, ~~56~~, 57, ~~58~~, 59, ~~60~~, 61, ~~62~~, 63, ~~64~~, 65, ~~66~~, 67, ~~68~~, 69, ~~70~~, 71, ~~72~~, 73, ~~74~~, 75, ~~76~~, 77, ~~78~~, 79, ~~80~~, 81, ~~82~~, 83, ~~84~~, 85, ~~86~~, 87, ~~88~~, 89, ~~90~~, 91, ~~92~~, 93, ~~94~~, 95, ~~96~~, 97, ~~98~~, 99, ~~100~~"
   ]
  },
  {
   "cell_type": "markdown",
   "metadata": {},
   "source": [
    "After 2, the smallest remaining number 3, one gets rid of 6 (already wiped out), 9, etc."
   ]
  },
  {
   "cell_type": "markdown",
   "metadata": {},
   "source": [
    "2, 3, ~~4~~, 5, ~~6~~, 7, ~~8~~, ~~9~~, ~~10~~, 11, ~~12~~, 13, ~~14~~, ~~15~~, ~~16~~, 17, ~~18~~, 19, ~~20~~, ~~21~~, ~~22~~, 23, ~~24~~, 25, ~~26~~, ~~27~~, ~~28~~, 29, ~~30~~, 31, ~~32~~, ~~33~~, ~~34~~, 35, ~~36~~, 37, ~~38~~, ~~39~~, ~~40~~, 41, ~~42~~, 43, ~~44~~, ~~45~~, ~~46~~, 47, ~~48~~, 49, ~~50~~, ~~51~~, ~~52~~, 53, ~~54~~, 55, ~~56~~, ~~57~~, ~~58~~, 59, ~~60~~, 61, ~~62~~, ~~63~~, ~~64~~, 65, ~~66~~, 67, ~~68~~, ~~69~~, ~~70~~, 71, ~~72~~, 73, ~~74~~, ~~75~~, ~~76~~, 77, ~~78~~, 79, ~~80~~, ~~81~~, ~~82~~, 83, ~~84~~, 85, ~~86~~, ~~87~~, ~~88~~, 89, ~~90~~, 91, ~~92~~, ~~93~~, ~~94~~, 95, ~~96~~, 97, ~~98~~, ~~99~~, ~~100~~"
   ]
  },
  {
   "cell_type": "markdown",
   "metadata": {},
   "source": [
    "After 3, the smallest remaining number is 5, etc. The following animated gif shows the process for $n=120$. In the end, only prime numbers remain."
   ]
  },
  {
   "cell_type": "markdown",
   "metadata": {},
   "source": [
    "<img src='Sieve_of_Eratosthenes_animation.gif'/>"
   ]
  },
  {
   "cell_type": "markdown",
   "metadata": {},
   "source": [
    "The goal of this exercise is to implement Eratosthenes sieve in Python as a function `eratosthenes` that takes an integer as input $n$ and returns a list of integers that are all primes between $2$ and $n$."
   ]
  },
  {
   "cell_type": "markdown",
   "metadata": {},
   "source": [
    "## Question 1. Given an integer $n$, write some Python code that outputs a `list` containing all integers between $2$ and $n$ sorted in increasing order. Choose `n=120` for questions 1 to 6 and give the name `primes` the created list."
   ]
  },
  {
   "cell_type": "code",
   "execution_count": 38,
   "metadata": {},
   "outputs": [
    {
     "data": {
      "text/plain": [
       "[2,\n",
       " 3,\n",
       " 4,\n",
       " 5,\n",
       " 6,\n",
       " 7,\n",
       " 8,\n",
       " 9,\n",
       " 10,\n",
       " 11,\n",
       " 12,\n",
       " 13,\n",
       " 14,\n",
       " 15,\n",
       " 16,\n",
       " 17,\n",
       " 18,\n",
       " 19,\n",
       " 20,\n",
       " 21,\n",
       " 22,\n",
       " 23,\n",
       " 24,\n",
       " 25,\n",
       " 26,\n",
       " 27,\n",
       " 28,\n",
       " 29,\n",
       " 30,\n",
       " 31,\n",
       " 32,\n",
       " 33,\n",
       " 34,\n",
       " 35,\n",
       " 36,\n",
       " 37,\n",
       " 38,\n",
       " 39,\n",
       " 40,\n",
       " 41,\n",
       " 42,\n",
       " 43,\n",
       " 44,\n",
       " 45,\n",
       " 46,\n",
       " 47,\n",
       " 48,\n",
       " 49,\n",
       " 50,\n",
       " 51,\n",
       " 52,\n",
       " 53,\n",
       " 54,\n",
       " 55,\n",
       " 56,\n",
       " 57,\n",
       " 58,\n",
       " 59,\n",
       " 60,\n",
       " 61,\n",
       " 62,\n",
       " 63,\n",
       " 64,\n",
       " 65,\n",
       " 66,\n",
       " 67,\n",
       " 68,\n",
       " 69,\n",
       " 70,\n",
       " 71,\n",
       " 72,\n",
       " 73,\n",
       " 74,\n",
       " 75,\n",
       " 76,\n",
       " 77,\n",
       " 78,\n",
       " 79,\n",
       " 80,\n",
       " 81,\n",
       " 82,\n",
       " 83,\n",
       " 84,\n",
       " 85,\n",
       " 86,\n",
       " 87,\n",
       " 88,\n",
       " 89,\n",
       " 90,\n",
       " 91,\n",
       " 92,\n",
       " 93,\n",
       " 94,\n",
       " 95,\n",
       " 96,\n",
       " 97,\n",
       " 98,\n",
       " 99,\n",
       " 100,\n",
       " 101,\n",
       " 102,\n",
       " 103,\n",
       " 104,\n",
       " 105,\n",
       " 106,\n",
       " 107,\n",
       " 108,\n",
       " 109,\n",
       " 110,\n",
       " 111,\n",
       " 112,\n",
       " 113,\n",
       " 114,\n",
       " 115,\n",
       " 116,\n",
       " 117,\n",
       " 118,\n",
       " 119,\n",
       " 120]"
      ]
     },
     "execution_count": 38,
     "metadata": {},
     "output_type": "execute_result"
    }
   ],
   "source": [
    "n = 120\n",
    "primes = list(range(2, n+1))\n",
    "primes"
   ]
  },
  {
   "cell_type": "markdown",
   "metadata": {},
   "source": [
    "## Question 2. Give the name `i` to the index of the first unseen element (*i.e.* $0$), and name `p` its value (*i.e.* $2$)"
   ]
  },
  {
   "cell_type": "code",
   "execution_count": 39,
   "metadata": {},
   "outputs": [
    {
     "data": {
      "text/plain": [
       "2"
      ]
     },
     "execution_count": 39,
     "metadata": {},
     "output_type": "execute_result"
    }
   ],
   "source": [
    "i = 0\n",
    "p = primes[i] \n",
    "p"
   ]
  },
  {
   "cell_type": "markdown",
   "metadata": {},
   "source": [
    "## Question 3. For all subsequent elements, if they are divisible by $p$, delete them from the list"
   ]
  },
  {
   "cell_type": "code",
   "execution_count": 40,
   "metadata": {},
   "outputs": [],
   "source": [
    "j = i+1\n",
    "while (j < len(primes)):\n",
    "    if (primes[j]%p == 0):\n",
    "        del primes[j]\n",
    "    else:\n",
    "        j+=1"
   ]
  },
  {
   "cell_type": "markdown",
   "metadata": {},
   "source": [
    "## Question 4. Give the name `i` to the next unseen element (*i.e.* 1), and name `p` its value, if `p` is greater than `sqrt(n)` print 'stop'"
   ]
  },
  {
   "cell_type": "code",
   "execution_count": 41,
   "metadata": {},
   "outputs": [],
   "source": [
    "from math import sqrt\n",
    "i += 1\n",
    "p = primes[i]\n",
    "if p > sqrt(n):\n",
    "    print('stop')"
   ]
  },
  {
   "cell_type": "markdown",
   "metadata": {},
   "source": [
    "## Question 5. For all subsequent elements, if they are divisible by $p$, delete them from the list"
   ]
  },
  {
   "cell_type": "code",
   "execution_count": 43,
   "metadata": {
    "collapsed": true
   },
   "outputs": [],
   "source": [
    "j = i+1\n",
    "while (j < len(primes)):\n",
    "    if (primes[j]%p == 0):\n",
    "        del primes[j]\n",
    "    else:\n",
    "        j+=1"
   ]
  },
  {
   "cell_type": "markdown",
   "metadata": {},
   "source": [
    "## Question 6. Wrap the previous steps in a loop"
   ]
  },
  {
   "cell_type": "code",
   "execution_count": 45,
   "metadata": {
    "collapsed": true
   },
   "outputs": [],
   "source": [
    "i = 0\n",
    "p = 2\n",
    "while (p < sqrt(n)):\n",
    "    i += 1\n",
    "    j = i+1\n",
    "    while (j < len(primes)):\n",
    "        if (primes[j]%p == 0):\n",
    "            del primes[j]\n",
    "        else:\n",
    "            j+=1\n",
    "    p = primes[i]"
   ]
  },
  {
   "cell_type": "markdown",
   "metadata": {},
   "source": [
    "## Question 7. Embed the previous loop in a function called `eratosthenes`"
   ]
  },
  {
   "cell_type": "code",
   "execution_count": 51,
   "metadata": {
    "collapsed": true
   },
   "outputs": [],
   "source": [
    "def eratosthenes(n):\n",
    "    primes = list(range(2, n+1))\n",
    "    i = 0\n",
    "    p = 2\n",
    "    while (p < sqrt(n)):\n",
    "        i += 1\n",
    "        j = i+1\n",
    "        while (j < len(primes)):\n",
    "            if (primes[j]%p == 0):\n",
    "                del primes[j]\n",
    "            else:\n",
    "                j+=1\n",
    "        p = primes[i]\n",
    "    return(primes)"
   ]
  },
  {
   "cell_type": "code",
   "execution_count": 52,
   "metadata": {},
   "outputs": [
    {
     "data": {
      "text/plain": [
       "[2,\n",
       " 3,\n",
       " 5,\n",
       " 7,\n",
       " 11,\n",
       " 13,\n",
       " 17,\n",
       " 19,\n",
       " 23,\n",
       " 29,\n",
       " 31,\n",
       " 37,\n",
       " 41,\n",
       " 43,\n",
       " 47,\n",
       " 53,\n",
       " 59,\n",
       " 61,\n",
       " 67,\n",
       " 71,\n",
       " 73,\n",
       " 79,\n",
       " 83,\n",
       " 89,\n",
       " 97,\n",
       " 101,\n",
       " 103,\n",
       " 107,\n",
       " 109,\n",
       " 113,\n",
       " 127,\n",
       " 131,\n",
       " 137,\n",
       " 139,\n",
       " 149,\n",
       " 151,\n",
       " 157,\n",
       " 163,\n",
       " 167,\n",
       " 173,\n",
       " 179,\n",
       " 181,\n",
       " 191,\n",
       " 193,\n",
       " 197,\n",
       " 199]"
      ]
     },
     "execution_count": 52,
     "metadata": {},
     "output_type": "execute_result"
    }
   ],
   "source": [
    "eratosthenes(200)"
   ]
  },
  {
   "cell_type": "code",
   "execution_count": null,
   "metadata": {
    "collapsed": true
   },
   "outputs": [],
   "source": []
  }
 ],
 "metadata": {
  "kernelspec": {
   "display_name": "Python 3",
   "language": "python",
   "name": "python3"
  },
  "language_info": {
   "codemirror_mode": {
    "name": "ipython",
    "version": 3
   },
   "file_extension": ".py",
   "mimetype": "text/x-python",
   "name": "python",
   "nbconvert_exporter": "python",
   "pygments_lexer": "ipython3",
   "version": "3.6.1"
  }
 },
 "nbformat": 4,
 "nbformat_minor": 2
}
